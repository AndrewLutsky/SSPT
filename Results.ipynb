{
 "cells": [
  {
   "cell_type": "code",
   "execution_count": 1,
   "metadata": {},
   "outputs": [
    {
     "name": "stderr",
     "output_type": "stream",
     "text": [
      "/Users/andrewlutsky/miniconda3/lib/python3.9/site-packages/scipy/__init__.py:155: UserWarning: A NumPy version >=1.18.5 and <1.25.0 is required for this version of SciPy (detected version 1.25.2\n",
      "  warnings.warn(f\"A NumPy version >={np_minversion} and <{np_maxversion}\"\n"
     ]
    }
   ],
   "source": [
    "import pandas as pd\n",
    "import seaborn as sb\n",
    "import matplotlib as plt\n",
    "\n"
   ]
  },
  {
   "cell_type": "code",
   "execution_count": 5,
   "metadata": {},
   "outputs": [
    {
     "name": "stdout",
     "output_type": "stream",
     "text": [
      "  Protein Name     accCF   accCFHelices   accCFSheets   accCFCoils    accGor  \\\n",
      "0        5LOSA  0.593220       0.634146           NaN     0.500000  0.805085   \n",
      "1        5LSFA  0.370370       0.125000      0.000000     0.630435  0.563786   \n",
      "2        5ZYUA  0.409449       0.233010      0.204545     0.663551  0.503937   \n",
      "3        6AR0A  0.264286            NaN      0.000000     0.500000  0.521429   \n",
      "4        6EK7A  0.546341       0.459627           NaN     0.863636  0.458537   \n",
      "5        6EXPC  0.211538       0.380952      0.000000     0.400000  0.423077   \n",
      "6        6HCPB  0.277620       0.407895      0.008547     0.580645  0.434844   \n",
      "\n",
      "    accGorHelices   accGorSheets   accGorCoils  \n",
      "0        0.743902            NaN      0.944444  \n",
      "1        0.083333       0.604938      0.623188  \n",
      "2        0.456311       0.431818      0.579439  \n",
      "3             NaN       0.363636      0.662162  \n",
      "4        0.481366            NaN      0.375000  \n",
      "5        1.000000       0.104167      0.514286  \n",
      "6        0.289474       0.341880      0.591398  \n"
     ]
    }
   ],
   "source": [
    "df = pd.read_csv(\"results/Output/results.csv\")\n",
    "df.replace(to_replace = None, value = 0.0)\n"
   ]
  }
 ],
 "metadata": {
  "kernelspec": {
   "display_name": "base",
   "language": "python",
   "name": "python3"
  },
  "language_info": {
   "codemirror_mode": {
    "name": "ipython",
    "version": 3
   },
   "file_extension": ".py",
   "mimetype": "text/x-python",
   "name": "python",
   "nbconvert_exporter": "python",
   "pygments_lexer": "ipython3",
   "version": "3.9.13"
  }
 },
 "nbformat": 4,
 "nbformat_minor": 2
}
